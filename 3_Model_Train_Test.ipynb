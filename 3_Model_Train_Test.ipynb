{
 "cells": [
  {
   "cell_type": "markdown",
   "metadata": {},
   "source": [
    "# Stock Price Predictor - Model Training and Testing\n",
    "\n",
    "## Notebook Overview\n",
    "- [1. ARIMA Model](#ARIMA-Model)\n",
    "    - [1.1 Determine Parameters](#define-parameters-1)\n",
    "    - [1.2 Train ARIMA Model](#train-model-1)\n",
    "    - [1.3 Evaluate Model Perfomance](#evaluate-performance-1)\n",
    "    - [1.4 Hyperparameter Tuning - ARIMA](#hyperparameter-tuning-1)\n",
    "    - [1.5 Generate Predictions - ARIMA](#generate-predictions-1)\n",
    "- [2. DeepAR Model](#DeepAR-Model)\n",
    "    - [2.1 Setting Hyperparameters](#define-hyperparameters-2)\n",
    "    - [2.2 Train DeepAR Estimator](#train-model-2)\n",
    "    - [2.3 Deploy and Evaluate Model Perfomance](#evaluate-performance-2)\n",
    "    - [2.4 Hyperparameter Tuning - DeepAR](#hyperparameter-tuning-2)\n",
    "    - [2.5 Generate Predictions - DeepAR](#generate-predictions-2)\n",
    "- [3. Visualise and Compare Predictions](#visualise-results)\n",
    "- [4. Experimentation](#experimentation)\n",
    "- [5. Conclusion](#conclusion)"
   ]
  },
  {
   "cell_type": "code",
   "execution_count": null,
   "metadata": {},
   "outputs": [],
   "source": []
  }
 ],
 "metadata": {
  "kernelspec": {
   "display_name": "conda_amazonei_mxnet_p36",
   "language": "python",
   "name": "conda_amazonei_mxnet_p36"
  },
  "language_info": {
   "codemirror_mode": {
    "name": "ipython",
    "version": 3
   },
   "file_extension": ".py",
   "mimetype": "text/x-python",
   "name": "python",
   "nbconvert_exporter": "python",
   "pygments_lexer": "ipython3",
   "version": "3.6.10"
  }
 },
 "nbformat": 4,
 "nbformat_minor": 4
}
